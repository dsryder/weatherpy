{
 "cells": [
  {
   "cell_type": "code",
   "execution_count": null,
   "metadata": {},
   "outputs": [],
   "source": [
    "# Dependencies\n",
    "import numpy as np\n",
    "import pandas as pd\n",
    "import matplotlib.pyplot as plt\n",
    "import requests\n",
    "from citipy import citipy\n",
    "from datetime import datetime\n",
    "from random import uniform\n",
    "from config import api_key\n",
    "\n",
    "# Create a df to lat, lon \n",
    "column_names = [\"City\", \"Country\"]\n",
    "cities_df = pd.DataFrame(columns=column_names)"
   ]
  },
  {
   "cell_type": "code",
   "execution_count": null,
   "metadata": {},
   "outputs": [],
   "source": [
    "# Randomly generate a list of 1750 cities. Use 50 to test for duplicates.\n",
    "for x in range(1750):\n",
    "    lat, lng = np.random.uniform(low=-90.000, high=90.000), np.random.uniform(low=-180.000, high=180.000)\n",
    "    city = citipy.nearest_city(lat, lng)\n",
    "    cities_df = cities_df.append({\"City\": city.city_name,\"Country\": city.country_code,}, ignore_index=True)\n",
    "\n",
    "#Remove duplicate cities\n",
    "cities_df = cities_df.drop_duplicates(subset='City').reset_index()\n",
    "cities_df.count()"
   ]
  },
  {
   "cell_type": "code",
   "execution_count": null,
   "metadata": {},
   "outputs": [],
   "source": [
    "\n",
    "#Create a df to add all the data from the API calls.#Create \n",
    "column_names = [\"City\", \"Country\",\"Temperature (F)\",\n",
    "                \"Latitude\",\"Longitude\",\"Humidity (%)\",\n",
    "                \"Cloudiness (%)\", \"Wind Speed (mph)\"]\n",
    "clean_cities_df = pd.DataFrame(columns=column_names)\n",
    "\n",
    "# Loop through the list of cities and add the data to the df.\n",
    "url = \"http://api.openweathermap.org/data/2.5/weather?\"\n",
    "\n",
    "row_count = 1\n",
    "\n",
    "print(\"Beginning Data Retrieval\")\n",
    "for index, row in cities_df.iterrows():\n",
    "    target_city = row[\"City\"]\n",
    "    target_url = url + \"appid=\" + api_key + \"&units=IMPERIAL\" + \"&q=\" + target_city.replace(\" \",\"+\")\n",
    "    city_data = requests.get(target_url).json()\n",
    "    if city_data[\"cod\"] == \"404\":\n",
    "        print(\"City not found, skipping...\")\n",
    "\n",
    "    else:\n",
    "        clean_cities_df.set_value(index, \"City\", city_data[\"name\"])\n",
    "        clean_cities_df.set_value(index, \"Country\", city_data[\"sys\"][\"country\"])\n",
    "        clean_cities_df.set_value(index, \"Temperature (F)\", city_data[\"main\"][\"temp\"])\n",
    "        clean_cities_df.set_value(index, \"Latitude\", city_data[\"coord\"][\"lat\"])\n",
    "        clean_cities_df.set_value(index, \"Longitude\", city_data[\"coord\"][\"lon\"])\n",
    "        clean_cities_df.set_value(index, \"Humidity (%)\", city_data[\"main\"][\"humidity\"])\n",
    "        clean_cities_df.set_value(index, \"Cloudiness (%)\", city_data[\"clouds\"][\"all\"])\n",
    "        clean_cities_df.set_value(index, \"Wind Speed (mph)\", city_data[\"wind\"][\"speed\"])\n",
    "        \n",
    "        print(\"------------------------\")\n",
    "        print(\"Proceesing: City # \" , row_count, ' | ' , city_data[\"name\"], city_data[\"sys\"][\"country\"])\n",
    "        print(target_url)\n",
    "        row_count += 1"
   ]
  },
  {
   "cell_type": "code",
   "execution_count": null,
   "metadata": {},
   "outputs": [],
   "source": [
    "clean_cities_df.count()"
   ]
  },
  {
   "cell_type": "code",
   "execution_count": null,
   "metadata": {},
   "outputs": [],
   "source": [
    "#Reset the index\n",
    "clean_cities_df = clean_cities_df.reset_index()\n",
    "del clean_cities_df['index']\n",
    "clean_cities_df.head(25)"
   ]
  },
  {
   "cell_type": "code",
   "execution_count": null,
   "metadata": {},
   "outputs": [],
   "source": [
    "# Save data to a CSV file\n",
    "clean_cities_df.to_csv(\"WeatherPy_analysis/City_Data.csv\")"
   ]
  },
  {
   "cell_type": "code",
   "execution_count": null,
   "metadata": {},
   "outputs": [],
   "source": [
    "#Build a scatter plot for Latitude vs. Temperature\n",
    "\n",
    "plt.scatter(clean_cities_df[\"Latitude\"], \n",
    "            clean_cities_df[\"Temperature (F)\"], c=clean_cities_df[\"Temperature (F)\"],\n",
    "            edgecolor=\"black\", linewidths=1, marker=\"o\", \n",
    "            cmap='plasma', alpha=0.8, label=\"City\")\n",
    "\n",
    "# Incorporate the other graph properties\n",
    "plt.style.use('seaborn')\n",
    "plt.title(f\"City Latitude vs. Max Temperature {datetime.now().strftime('%m/%d/%Y')}\")\n",
    "plt.ylabel(\"Max Temperature (F)\")\n",
    "plt.xlabel(\"Latitude\")\n",
    "plt.grid(True)\n",
    "plt.xlim([-80, 100])\n",
    "plt.ylim([-60, 120])\n",
    "\n",
    "# Save the figure\n",
    "plt.savefig(\"WeatherPy_analysis/Latitude_Temperature.png\")\n",
    "\n",
    "# Show plot\n",
    "plt.show()"
   ]
  },
  {
   "cell_type": "code",
   "execution_count": null,
   "metadata": {},
   "outputs": [],
   "source": [
    "#Build a scatter plot for Latitude vs. Humidity (%)\n",
    "\n",
    "plt.scatter(clean_cities_df[\"Latitude\"], \n",
    "            clean_cities_df[\"Humidity (%)\"], c=clean_cities_df[\"Humidity (%)\"],\n",
    "            edgecolor=\"black\", linewidths=1, marker=\"o\", \n",
    "            cmap='GnBu', alpha=0.8, label=\"City\")\n",
    "\n",
    "# Incorporate the other graph properties\n",
    "plt.style.use('seaborn')\n",
    "plt.title(f\"City Latitude vs. Humidity (%) {datetime.now().strftime('%m/%d/%Y')}\")\n",
    "plt.ylabel(\"Humidity (%)\")\n",
    "plt.xlabel(\"Latitude\")\n",
    "plt.grid(True)\n",
    "plt.xlim([-80, 100])\n",
    "plt.ylim([-5, 125])\n",
    "\n",
    "# Save the figure\n",
    "plt.savefig(\"WeatherPy_analysis/Latitude_Humidity.png\")\n",
    "\n",
    "# Show plot\n",
    "plt.show()"
   ]
  },
  {
   "cell_type": "code",
   "execution_count": null,
   "metadata": {},
   "outputs": [],
   "source": [
    "#Build a scatter plot for Latitude vs. Cloudiness (%)\n",
    "\n",
    "plt.scatter(clean_cities_df[\"Latitude\"], \n",
    "            clean_cities_df[\"Cloudiness (%)\"], c=clean_cities_df[\"Cloudiness (%)\"],\n",
    "            edgecolor=\"black\", linewidths=1, marker=\"o\", \n",
    "            cmap='bone_r', alpha=0.8, label=\"City\")\n",
    "\n",
    "# Incorporate the other graph properties\n",
    "plt.style.use('seaborn')\n",
    "plt.title(f\"City Latitude vs. Cloudiness (%) {datetime.now().strftime('%m/%d/%Y')}\")\n",
    "plt.ylabel(\"Cloudiness (%)\")\n",
    "plt.xlabel(\"Latitude\")\n",
    "plt.grid(True)\n",
    "plt.xlim([-80, 100])\n",
    "plt.ylim([-10, 125])\n",
    "\n",
    "# Save the figure\n",
    "plt.savefig(\"WeatherPy_analysis/Latitude_Cloudiness.png\")\n",
    "\n",
    "# Show plot\n",
    "plt.show()"
   ]
  }
 ],
 "metadata": {
  "kernelspec": {
   "display_name": "Python 3",
   "language": "python",
   "name": "python3"
  },
  "language_info": {
   "codemirror_mode": {
    "name": "ipython",
    "version": 3
   },
   "file_extension": ".py",
   "mimetype": "text/x-python",
   "name": "python",
   "nbconvert_exporter": "python",
   "pygments_lexer": "ipython3",
   "version": "3.6.4"
  }
 },
 "nbformat": 4,
 "nbformat_minor": 2
}
